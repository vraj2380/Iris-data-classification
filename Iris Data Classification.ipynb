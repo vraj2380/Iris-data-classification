{
 "cells": [
  {
   "cell_type": "markdown",
   "id": "ce6ac5e6",
   "metadata": {},
   "source": [
    "## Importing the dataset and performing EDA."
   ]
  },
  {
   "cell_type": "code",
   "execution_count": 27,
   "id": "77c2abc0",
   "metadata": {},
   "outputs": [
    {
     "data": {
      "text/html": [
       "<div>\n",
       "<style scoped>\n",
       "    .dataframe tbody tr th:only-of-type {\n",
       "        vertical-align: middle;\n",
       "    }\n",
       "\n",
       "    .dataframe tbody tr th {\n",
       "        vertical-align: top;\n",
       "    }\n",
       "\n",
       "    .dataframe thead th {\n",
       "        text-align: right;\n",
       "    }\n",
       "</style>\n",
       "<table border=\"1\" class=\"dataframe\">\n",
       "  <thead>\n",
       "    <tr style=\"text-align: right;\">\n",
       "      <th></th>\n",
       "      <th>sepal.length</th>\n",
       "      <th>sepal.width</th>\n",
       "      <th>petal.length</th>\n",
       "      <th>petal.width</th>\n",
       "      <th>variety</th>\n",
       "    </tr>\n",
       "  </thead>\n",
       "  <tbody>\n",
       "    <tr>\n",
       "      <th>0</th>\n",
       "      <td>5.1</td>\n",
       "      <td>3.5</td>\n",
       "      <td>1.4</td>\n",
       "      <td>0.2</td>\n",
       "      <td>Setosa</td>\n",
       "    </tr>\n",
       "    <tr>\n",
       "      <th>1</th>\n",
       "      <td>4.9</td>\n",
       "      <td>3.0</td>\n",
       "      <td>1.4</td>\n",
       "      <td>0.2</td>\n",
       "      <td>Setosa</td>\n",
       "    </tr>\n",
       "    <tr>\n",
       "      <th>2</th>\n",
       "      <td>4.7</td>\n",
       "      <td>3.2</td>\n",
       "      <td>1.3</td>\n",
       "      <td>0.2</td>\n",
       "      <td>Setosa</td>\n",
       "    </tr>\n",
       "    <tr>\n",
       "      <th>3</th>\n",
       "      <td>4.6</td>\n",
       "      <td>3.1</td>\n",
       "      <td>1.5</td>\n",
       "      <td>0.2</td>\n",
       "      <td>Setosa</td>\n",
       "    </tr>\n",
       "    <tr>\n",
       "      <th>4</th>\n",
       "      <td>5.0</td>\n",
       "      <td>3.6</td>\n",
       "      <td>1.4</td>\n",
       "      <td>0.2</td>\n",
       "      <td>Setosa</td>\n",
       "    </tr>\n",
       "  </tbody>\n",
       "</table>\n",
       "</div>"
      ],
      "text/plain": [
       "   sepal.length  sepal.width  petal.length  petal.width variety\n",
       "0           5.1          3.5           1.4          0.2  Setosa\n",
       "1           4.9          3.0           1.4          0.2  Setosa\n",
       "2           4.7          3.2           1.3          0.2  Setosa\n",
       "3           4.6          3.1           1.5          0.2  Setosa\n",
       "4           5.0          3.6           1.4          0.2  Setosa"
      ]
     },
     "execution_count": 27,
     "metadata": {},
     "output_type": "execute_result"
    }
   ],
   "source": [
    "import matplotlib.pyplot as plt\n",
    "import numpy as np\n",
    "import pandas as pd\n",
    "import seaborn as sns\n",
    "%matplotlib inline\n",
    "\n",
    "iris = pd.read_csv('iris.csv')\n",
    "iris.head()"
   ]
  },
  {
   "cell_type": "code",
   "execution_count": 28,
   "id": "c098d219",
   "metadata": {
    "scrolled": true
   },
   "outputs": [
    {
     "data": {
      "text/html": [
       "<div>\n",
       "<style scoped>\n",
       "    .dataframe tbody tr th:only-of-type {\n",
       "        vertical-align: middle;\n",
       "    }\n",
       "\n",
       "    .dataframe tbody tr th {\n",
       "        vertical-align: top;\n",
       "    }\n",
       "\n",
       "    .dataframe thead th {\n",
       "        text-align: right;\n",
       "    }\n",
       "</style>\n",
       "<table border=\"1\" class=\"dataframe\">\n",
       "  <thead>\n",
       "    <tr style=\"text-align: right;\">\n",
       "      <th></th>\n",
       "      <th>sepal.length</th>\n",
       "      <th>sepal.width</th>\n",
       "      <th>petal.length</th>\n",
       "      <th>petal.width</th>\n",
       "    </tr>\n",
       "  </thead>\n",
       "  <tbody>\n",
       "    <tr>\n",
       "      <th>count</th>\n",
       "      <td>150.000000</td>\n",
       "      <td>150.000000</td>\n",
       "      <td>150.000000</td>\n",
       "      <td>150.000000</td>\n",
       "    </tr>\n",
       "    <tr>\n",
       "      <th>mean</th>\n",
       "      <td>5.843333</td>\n",
       "      <td>3.057333</td>\n",
       "      <td>3.758000</td>\n",
       "      <td>1.199333</td>\n",
       "    </tr>\n",
       "    <tr>\n",
       "      <th>std</th>\n",
       "      <td>0.828066</td>\n",
       "      <td>0.435866</td>\n",
       "      <td>1.765298</td>\n",
       "      <td>0.762238</td>\n",
       "    </tr>\n",
       "    <tr>\n",
       "      <th>min</th>\n",
       "      <td>4.300000</td>\n",
       "      <td>2.000000</td>\n",
       "      <td>1.000000</td>\n",
       "      <td>0.100000</td>\n",
       "    </tr>\n",
       "    <tr>\n",
       "      <th>25%</th>\n",
       "      <td>5.100000</td>\n",
       "      <td>2.800000</td>\n",
       "      <td>1.600000</td>\n",
       "      <td>0.300000</td>\n",
       "    </tr>\n",
       "    <tr>\n",
       "      <th>50%</th>\n",
       "      <td>5.800000</td>\n",
       "      <td>3.000000</td>\n",
       "      <td>4.350000</td>\n",
       "      <td>1.300000</td>\n",
       "    </tr>\n",
       "    <tr>\n",
       "      <th>75%</th>\n",
       "      <td>6.400000</td>\n",
       "      <td>3.300000</td>\n",
       "      <td>5.100000</td>\n",
       "      <td>1.800000</td>\n",
       "    </tr>\n",
       "    <tr>\n",
       "      <th>max</th>\n",
       "      <td>7.900000</td>\n",
       "      <td>4.400000</td>\n",
       "      <td>6.900000</td>\n",
       "      <td>2.500000</td>\n",
       "    </tr>\n",
       "  </tbody>\n",
       "</table>\n",
       "</div>"
      ],
      "text/plain": [
       "       sepal.length  sepal.width  petal.length  petal.width\n",
       "count    150.000000   150.000000    150.000000   150.000000\n",
       "mean       5.843333     3.057333      3.758000     1.199333\n",
       "std        0.828066     0.435866      1.765298     0.762238\n",
       "min        4.300000     2.000000      1.000000     0.100000\n",
       "25%        5.100000     2.800000      1.600000     0.300000\n",
       "50%        5.800000     3.000000      4.350000     1.300000\n",
       "75%        6.400000     3.300000      5.100000     1.800000\n",
       "max        7.900000     4.400000      6.900000     2.500000"
      ]
     },
     "execution_count": 28,
     "metadata": {},
     "output_type": "execute_result"
    }
   ],
   "source": [
    "iris.describe()"
   ]
  },
  {
   "cell_type": "markdown",
   "id": "56296c9a",
   "metadata": {},
   "source": [
    "## Ploting Data Using Histogram\n",
    "\n"
   ]
  },
  {
   "cell_type": "code",
   "execution_count": 29,
   "id": "d0086e1c",
   "metadata": {},
   "outputs": [
    {
     "data": {
      "image/png": "[encoded data removed]",
      "text/plain": [
       "<Figure size 432x288 with 1 Axes>"
      ]
     },
     "metadata": {
      "needs_background": "light"
     },
     "output_type": "display_data"
    },
    {
     "data": {
      "image/png": "[encoded data removed]",
      "text/plain": [
       "<Figure size 432x288 with 1 Axes>"
      ]
     },
     "metadata": {
      "needs_background": "light"
     },
     "output_type": "display_data"
    },
    {
     "data": {
      "image/png": "[encoded data removed]",
      "text/plain": [
       "<Figure size 432x288 with 1 Axes>"
      ]
     },
     "metadata": {
      "needs_background": "light"
     },
     "output_type": "display_data"
    },
    {
     "data": {
      "image/png": "[encoded data removed]",
      "text/plain": [
       "<Figure size 432x288 with 1 Axes>"
      ]
     },
     "metadata": {
      "needs_background": "light"
     },
     "output_type": "display_data"
    }
   ],
   "source": [
    "for i in ['sepal.length', 'sepal.width', 'petal.length', 'petal.width']:\n",
    "    Setosa = list(iris[iris['variety'] == \"Setosa\"][i].dropna())\n",
    "\n",
    "    Versicolor = list(iris[iris['variety'] == \"Versicolor\"][i].dropna())\n",
    "\n",
    "    Virginica = list(iris[iris['variety'] == \"Virginica\"][i].dropna())\n",
    "\n",
    "    xmin = min(min(Setosa), min(Versicolor), min(Virginica))\n",
    "\n",
    "    xmax = max(max(Setosa), max(Versicolor), max(Virginica))\n",
    "\n",
    "    width = (xmax-xmin)/50\n",
    "\n",
    "    sns.distplot(Setosa, color='r',kde=False, bins=np.arange(xmin, xmax, width))\n",
    "\n",
    "    sns.distplot(Versicolor, color='g',kde=False, bins=np.arange(xmin, xmax, width))\n",
    "\n",
    "    sns.distplot(Virginica, color='b',kde=False, bins=np.arange(xmin, xmax, width))\n",
    "\n",
    "    plt.legend(['Setosa', 'Versicolor', 'Virginica'])\n",
    "\n",
    "    plt.title('Overlaid Histogram for {}'.format(i))\n",
    "\n",
    "    plt.show()"
   ]
  },
  {
   "cell_type": "markdown",
   "id": "54278ac8",
   "metadata": {},
   "source": [
    "## Analysis:\n",
    "\n",
    "It is seen from the histograms that, sepal.length and sepal.width are not having ideal data for the classification, whereas **petal.length and petla.width** can be used for the classification, as it shows seperation between variety better."
   ]
  },
  {
   "cell_type": "code",
   "execution_count": 30,
   "id": "32163fde",
   "metadata": {},
   "outputs": [
    {
     "name": "stdout",
     "output_type": "stream",
     "text": [
      "<class 'pandas.core.frame.DataFrame'>\n",
      "RangeIndex: 150 entries, 0 to 149\n",
      "Data columns (total 5 columns):\n",
      " #   Column        Non-Null Count  Dtype  \n",
      "---  ------        --------------  -----  \n",
      " 0   sepal.length  150 non-null    float64\n",
      " 1   sepal.width   150 non-null    float64\n",
      " 2   petal.length  150 non-null    float64\n",
      " 3   petal.width   150 non-null    float64\n",
      " 4   variety       150 non-null    object \n",
      "dtypes: float64(4), object(1)\n",
      "memory usage: 6.0+ KB\n"
     ]
    }
   ],
   "source": [
    "iris.info()"
   ]
  },
  {
   "cell_type": "markdown",
   "id": "850bb130",
   "metadata": {},
   "source": [
    "## Turning the targeted variable \"Variety\" in numeric form."
   ]
  },
  {
   "cell_type": "code",
   "execution_count": 31,
   "id": "17b40c99",
   "metadata": {},
   "outputs": [
    {
     "data": {
      "text/html": [
       "<div>\n",
       "<style scoped>\n",
       "    .dataframe tbody tr th:only-of-type {\n",
       "        vertical-align: middle;\n",
       "    }\n",
       "\n",
       "    .dataframe tbody tr th {\n",
       "        vertical-align: top;\n",
       "    }\n",
       "\n",
       "    .dataframe thead th {\n",
       "        text-align: right;\n",
       "    }\n",
       "</style>\n",
       "<table border=\"1\" class=\"dataframe\">\n",
       "  <thead>\n",
       "    <tr style=\"text-align: right;\">\n",
       "      <th></th>\n",
       "      <th>sepal.length</th>\n",
       "      <th>sepal.width</th>\n",
       "      <th>petal.length</th>\n",
       "      <th>petal.width</th>\n",
       "      <th>variety</th>\n",
       "    </tr>\n",
       "  </thead>\n",
       "  <tbody>\n",
       "    <tr>\n",
       "      <th>0</th>\n",
       "      <td>5.1</td>\n",
       "      <td>3.5</td>\n",
       "      <td>1.4</td>\n",
       "      <td>0.2</td>\n",
       "      <td>1</td>\n",
       "    </tr>\n",
       "    <tr>\n",
       "      <th>1</th>\n",
       "      <td>4.9</td>\n",
       "      <td>3.0</td>\n",
       "      <td>1.4</td>\n",
       "      <td>0.2</td>\n",
       "      <td>1</td>\n",
       "    </tr>\n",
       "    <tr>\n",
       "      <th>2</th>\n",
       "      <td>4.7</td>\n",
       "      <td>3.2</td>\n",
       "      <td>1.3</td>\n",
       "      <td>0.2</td>\n",
       "      <td>1</td>\n",
       "    </tr>\n",
       "    <tr>\n",
       "      <th>3</th>\n",
       "      <td>4.6</td>\n",
       "      <td>3.1</td>\n",
       "      <td>1.5</td>\n",
       "      <td>0.2</td>\n",
       "      <td>1</td>\n",
       "    </tr>\n",
       "    <tr>\n",
       "      <th>4</th>\n",
       "      <td>5.0</td>\n",
       "      <td>3.6</td>\n",
       "      <td>1.4</td>\n",
       "      <td>0.2</td>\n",
       "      <td>1</td>\n",
       "    </tr>\n",
       "  </tbody>\n",
       "</table>\n",
       "</div>"
      ],
      "text/plain": [
       "   sepal.length  sepal.width  petal.length  petal.width  variety\n",
       "0           5.1          3.5           1.4          0.2        1\n",
       "1           4.9          3.0           1.4          0.2        1\n",
       "2           4.7          3.2           1.3          0.2        1\n",
       "3           4.6          3.1           1.5          0.2        1\n",
       "4           5.0          3.6           1.4          0.2        1"
      ]
     },
     "execution_count": 31,
     "metadata": {},
     "output_type": "execute_result"
    }
   ],
   "source": [
    "iris_class = {'Setosa':1, 'Virginica':3, 'Versicolor':2}\n",
    "\n",
    "iris['variety'] = iris['variety'].map(iris_class)\n",
    "iris.head()"
   ]
  },
  {
   "cell_type": "markdown",
   "id": "2d25c450",
   "metadata": {},
   "source": [
    "## Saving Cleaned Data."
   ]
  },
  {
   "cell_type": "code",
   "execution_count": 32,
   "id": "72373c72",
   "metadata": {},
   "outputs": [],
   "source": [
    "iris.to_csv('iris_cleaned.csv', index=False)"
   ]
  },
  {
   "cell_type": "code",
   "execution_count": 33,
   "id": "2b668143",
   "metadata": {},
   "outputs": [
    {
     "data": {
      "text/html": [
       "<div>\n",
       "<style scoped>\n",
       "    .dataframe tbody tr th:only-of-type {\n",
       "        vertical-align: middle;\n",
       "    }\n",
       "\n",
       "    .dataframe tbody tr th {\n",
       "        vertical-align: top;\n",
       "    }\n",
       "\n",
       "    .dataframe thead th {\n",
       "        text-align: right;\n",
       "    }\n",
       "</style>\n",
       "<table border=\"1\" class=\"dataframe\">\n",
       "  <thead>\n",
       "    <tr style=\"text-align: right;\">\n",
       "      <th></th>\n",
       "      <th>sepal.length</th>\n",
       "      <th>sepal.width</th>\n",
       "      <th>petal.length</th>\n",
       "      <th>petal.width</th>\n",
       "      <th>variety</th>\n",
       "    </tr>\n",
       "  </thead>\n",
       "  <tbody>\n",
       "    <tr>\n",
       "      <th>0</th>\n",
       "      <td>5.1</td>\n",
       "      <td>3.5</td>\n",
       "      <td>1.4</td>\n",
       "      <td>0.2</td>\n",
       "      <td>1</td>\n",
       "    </tr>\n",
       "    <tr>\n",
       "      <th>1</th>\n",
       "      <td>4.9</td>\n",
       "      <td>3.0</td>\n",
       "      <td>1.4</td>\n",
       "      <td>0.2</td>\n",
       "      <td>1</td>\n",
       "    </tr>\n",
       "    <tr>\n",
       "      <th>2</th>\n",
       "      <td>4.7</td>\n",
       "      <td>3.2</td>\n",
       "      <td>1.3</td>\n",
       "      <td>0.2</td>\n",
       "      <td>1</td>\n",
       "    </tr>\n",
       "    <tr>\n",
       "      <th>3</th>\n",
       "      <td>4.6</td>\n",
       "      <td>3.1</td>\n",
       "      <td>1.5</td>\n",
       "      <td>0.2</td>\n",
       "      <td>1</td>\n",
       "    </tr>\n",
       "    <tr>\n",
       "      <th>4</th>\n",
       "      <td>5.0</td>\n",
       "      <td>3.6</td>\n",
       "      <td>1.4</td>\n",
       "      <td>0.2</td>\n",
       "      <td>1</td>\n",
       "    </tr>\n",
       "  </tbody>\n",
       "</table>\n",
       "</div>"
      ],
      "text/plain": [
       "   sepal.length  sepal.width  petal.length  petal.width  variety\n",
       "0           5.1          3.5           1.4          0.2        1\n",
       "1           4.9          3.0           1.4          0.2        1\n",
       "2           4.7          3.2           1.3          0.2        1\n",
       "3           4.6          3.1           1.5          0.2        1\n",
       "4           5.0          3.6           1.4          0.2        1"
      ]
     },
     "execution_count": 33,
     "metadata": {},
     "output_type": "execute_result"
    }
   ],
   "source": [
    "iris = pd.read_csv('iris_cleaned.csv')\n",
    "iris.head()"
   ]
  },
  {
   "cell_type": "markdown",
   "id": "f6cfb9e8",
   "metadata": {},
   "source": [
    "# Spliting Dataset into first ratio of 60-20-20 (Training-Validation-Testing)"
   ]
  },
  {
   "cell_type": "code",
   "execution_count": 34,
   "id": "28802712",
   "metadata": {},
   "outputs": [],
   "source": [
    "from sklearn.model_selection import train_test_split\n",
    "\n",
    "features = iris.drop('variety', axis=1)\n",
    "labels = iris['variety']\n",
    "\n",
    "x_train1, x_test1, y_train1, y_test1 = train_test_split(features, labels, test_size=0.4, random_state=23)\n",
    "x_test1, x_val1, y_test1, y_val1 = train_test_split(x_test1, y_test1, test_size=0.5, random_state=23)"
   ]
  },
  {
   "cell_type": "markdown",
   "id": "49fc6802",
   "metadata": {},
   "source": [
    "Data split into 60-20-20"
   ]
  },
  {
   "cell_type": "code",
   "execution_count": 35,
   "id": "71f3c5d5",
   "metadata": {
    "scrolled": true
   },
   "outputs": [
    {
     "name": "stdout",
     "output_type": "stream",
     "text": [
      "150 90 30 30\n"
     ]
    }
   ],
   "source": [
    "print(len(labels), len(y_train1), len(y_val1), len(y_test1))"
   ]
  },
  {
   "cell_type": "markdown",
   "id": "8433c334",
   "metadata": {},
   "source": [
    "# Spliting Dataset into second ratio of 80-10-10 (Training-Validation-Testing)"
   ]
  },
  {
   "cell_type": "code",
   "execution_count": 36,
   "id": "6e7f2b73",
   "metadata": {},
   "outputs": [],
   "source": [
    "features = iris.drop('variety', axis=1)\n",
    "labels = iris['variety']\n",
    "\n",
    "x_train2, x_test2, y_train2, y_test2 = train_test_split(features, labels, test_size=0.2, random_state=23)\n",
    "x_test2, x_val2, y_test2, y_val2 = train_test_split(x_test2, y_test2, test_size=0.5, random_state=23)"
   ]
  },
  {
   "cell_type": "markdown",
   "id": "94cd8880",
   "metadata": {},
   "source": [
    "Data split into 80-10-10"
   ]
  },
  {
   "cell_type": "code",
   "execution_count": 37,
   "id": "3f245429",
   "metadata": {
    "scrolled": true
   },
   "outputs": [
    {
     "name": "stdout",
     "output_type": "stream",
     "text": [
      "150 120 15 15\n"
     ]
    }
   ],
   "source": [
    "print(len(labels), len(y_train2), len(y_val2), len(y_test2))"
   ]
  },
  {
   "cell_type": "code",
   "execution_count": 38,
   "id": "83644ae7",
   "metadata": {},
   "outputs": [
    {
     "data": {
      "text/html": [
       "<div>\n",
       "<style scoped>\n",
       "    .dataframe tbody tr th:only-of-type {\n",
       "        vertical-align: middle;\n",
       "    }\n",
       "\n",
       "    .dataframe tbody tr th {\n",
       "        vertical-align: top;\n",
       "    }\n",
       "\n",
       "    .dataframe thead th {\n",
       "        text-align: right;\n",
       "    }\n",
       "</style>\n",
       "<table border=\"1\" class=\"dataframe\">\n",
       "  <thead>\n",
       "    <tr style=\"text-align: right;\">\n",
       "      <th></th>\n",
       "      <th>sepal.length</th>\n",
       "      <th>sepal.width</th>\n",
       "      <th>petal.length</th>\n",
       "      <th>petal.width</th>\n",
       "      <th>variety</th>\n",
       "    </tr>\n",
       "  </thead>\n",
       "  <tbody>\n",
       "    <tr>\n",
       "      <th>0</th>\n",
       "      <td>5.1</td>\n",
       "      <td>3.5</td>\n",
       "      <td>1.4</td>\n",
       "      <td>0.2</td>\n",
       "      <td>1</td>\n",
       "    </tr>\n",
       "    <tr>\n",
       "      <th>1</th>\n",
       "      <td>4.9</td>\n",
       "      <td>3.0</td>\n",
       "      <td>1.4</td>\n",
       "      <td>0.2</td>\n",
       "      <td>1</td>\n",
       "    </tr>\n",
       "    <tr>\n",
       "      <th>2</th>\n",
       "      <td>4.7</td>\n",
       "      <td>3.2</td>\n",
       "      <td>1.3</td>\n",
       "      <td>0.2</td>\n",
       "      <td>1</td>\n",
       "    </tr>\n",
       "    <tr>\n",
       "      <th>3</th>\n",
       "      <td>4.6</td>\n",
       "      <td>3.1</td>\n",
       "      <td>1.5</td>\n",
       "      <td>0.2</td>\n",
       "      <td>1</td>\n",
       "    </tr>\n",
       "    <tr>\n",
       "      <th>4</th>\n",
       "      <td>5.0</td>\n",
       "      <td>3.6</td>\n",
       "      <td>1.4</td>\n",
       "      <td>0.2</td>\n",
       "      <td>1</td>\n",
       "    </tr>\n",
       "  </tbody>\n",
       "</table>\n",
       "</div>"
      ],
      "text/plain": [
       "   sepal.length  sepal.width  petal.length  petal.width  variety\n",
       "0           5.1          3.5           1.4          0.2        1\n",
       "1           4.9          3.0           1.4          0.2        1\n",
       "2           4.7          3.2           1.3          0.2        1\n",
       "3           4.6          3.1           1.5          0.2        1\n",
       "4           5.0          3.6           1.4          0.2        1"
      ]
     },
     "execution_count": 38,
     "metadata": {},
     "output_type": "execute_result"
    }
   ],
   "source": [
    "iris.head()"
   ]
  },
  {
   "cell_type": "markdown",
   "id": "ed46d141",
   "metadata": {},
   "source": [
    "## Writing out data"
   ]
  },
  {
   "cell_type": "code",
   "execution_count": 39,
   "id": "227dc739",
   "metadata": {},
   "outputs": [],
   "source": [
    "x_train1.to_csv('train1_features.csv', index=False)\n",
    "x_val1.to_csv('val1_features.csv', index=False)\n",
    "x_test1.to_csv('test1_features.csv', index=False)\n",
    "\n",
    "y_train1.to_csv('train1_labels.csv', index=False)\n",
    "y_val1.to_csv('val1_labels.csv', index=False)\n",
    "y_test1.to_csv('test1_labels.csv', index=False)\n",
    "\n",
    "x_train2.to_csv('train2_features.csv', index=False)\n",
    "x_val2.to_csv('val2_features.csv', index=False)\n",
    "x_test2.to_csv('test2_features.csv', index=False)\n",
    "\n",
    "y_train2.to_csv('train2_labels.csv', index=False)\n",
    "y_val2.to_csv('val2_labels.csv', index=False)\n",
    "y_test2.to_csv('test2_labels.csv', index=False)"
   ]
  },
  {
   "cell_type": "markdown",
   "id": "9cfd1226",
   "metadata": {},
   "source": [
    "## Read in data for K-fold"
   ]
  },
  {
   "cell_type": "code",
   "execution_count": 40,
   "id": "e966aaf3",
   "metadata": {},
   "outputs": [],
   "source": [
    "from sklearn.ensemble import RandomForestClassifier\n",
    "from sklearn.model_selection import cross_val_score\n",
    "import warnings\n",
    "warnings.filterwarnings(\"ignore\", category=FutureWarning)\n",
    "    \n",
    "tr1_features = pd.read_csv('train1_features.csv')\n",
    "tr1_labels = pd.read_csv('train1_labels.csv', )\n",
    "\n",
    "tr2_features = pd.read_csv('train2_features.csv')\n",
    "tr2_labels = pd.read_csv('train2_labels.csv', )"
   ]
  },
  {
   "cell_type": "markdown",
   "id": "5e856e1f",
   "metadata": {},
   "source": [
    "## Fitting and evaluating basic model using K-fold cross validation using RandomForest\n",
    "\n",
    "Here data is folded 5 times"
   ]
  },
  {
   "cell_type": "code",
   "execution_count": 41,
   "id": "3ed9636c",
   "metadata": {
    "scrolled": true
   },
   "outputs": [],
   "source": [
    "rf = RandomForestClassifier()\n",
    "\n",
    "scores1 = cross_val_score(rf, tr1_features, tr1_labels.values.ravel(), cv=5)"
   ]
  },
  {
   "cell_type": "markdown",
   "id": "3db3ca91",
   "metadata": {},
   "source": [
    "K-fold Scores for ratio 60-20-20"
   ]
  },
  {
   "cell_type": "code",
   "execution_count": 42,
   "id": "150cfc4c",
   "metadata": {
    "scrolled": true
   },
   "outputs": [
    {
     "data": {
      "text/plain": [
       "array([0.88888889, 1.        , 0.88888889, 0.94444444, 0.94444444])"
      ]
     },
     "execution_count": 42,
     "metadata": {},
     "output_type": "execute_result"
    }
   ],
   "source": [
    "scores1"
   ]
  },
  {
   "cell_type": "code",
   "execution_count": 43,
   "id": "77c0f574",
   "metadata": {},
   "outputs": [],
   "source": [
    "rf = RandomForestClassifier()\n",
    "\n",
    "scores2 = cross_val_score(rf, tr2_features, tr2_labels.values.ravel(), cv=5)"
   ]
  },
  {
   "cell_type": "markdown",
   "id": "32d233b2",
   "metadata": {},
   "source": [
    "K-fold Scores for ratio 80-10-10"
   ]
  },
  {
   "cell_type": "code",
   "execution_count": 44,
   "id": "97d60a32",
   "metadata": {},
   "outputs": [
    {
     "data": {
      "text/plain": [
       "array([0.95833333, 0.875     , 0.95833333, 0.95833333, 0.95833333])"
      ]
     },
     "execution_count": 44,
     "metadata": {},
     "output_type": "execute_result"
    }
   ],
   "source": [
    "scores2"
   ]
  },
  {
   "cell_type": "markdown",
   "id": "3d88b086",
   "metadata": {},
   "source": [
    "# Implementing Grid Search to find optimal hyperparameters for LR(Logistic Regression)"
   ]
  },
  {
   "cell_type": "markdown",
   "id": "5dee2aa2",
   "metadata": {},
   "source": [
    "**First for the ratio 60-20-20**"
   ]
  },
  {
   "cell_type": "code",
   "execution_count": 45,
   "id": "22546f40",
   "metadata": {},
   "outputs": [],
   "source": [
    "import joblib\n",
    "from sklearn.model_selection import GridSearchCV\n",
    "from sklearn.linear_model import LogisticRegression\n",
    "import warnings\n",
    "warnings.filterwarnings('ignore', category=DeprecationWarning)\n",
    "\n",
    "tr1_features = pd.read_csv('train1_features.csv')\n",
    "tr1_labels = pd.read_csv('train1_labels.csv', )"
   ]
  },
  {
   "cell_type": "code",
   "execution_count": 46,
   "id": "59a497c7",
   "metadata": {},
   "outputs": [],
   "source": [
    "def print_results(results):\n",
    "    print('BEST PARAMS: {}\\n'.format(results.best_params_))\n",
    "\n",
    "    means = results.cv_results_['mean_test_score']\n",
    "    stds = results.cv_results_['std_test_score']\n",
    "    for mean, std, params in zip(means, stds, results.cv_results_['params']):\n",
    "        print('{} (+/-{}) for {}'.format(round(mean, 3), round(std * 2, 3), params))"
   ]
  },
  {
   "cell_type": "code",
   "execution_count": 47,
   "id": "de12ffc5",
   "metadata": {},
   "outputs": [
    {
     "name": "stderr",
     "output_type": "stream",
     "text": [
      "C:\\Users\\ASUS\\anaconda3\\lib\\site-packages\\sklearn\\linear_model\\_logistic.py:763: ConvergenceWarning: lbfgs failed to converge (status=1):\n",
      "STOP: TOTAL NO. of ITERATIONS REACHED LIMIT.\n",
      "\n",
      "Increase the number of iterations (max_iter) or scale the data as shown in:\n",
      "    https://scikit-learn.org/stable/modules/preprocessing.html\n",
      "Please also refer to the documentation for alternative solver options:\n",
      "    https://scikit-learn.org/stable/modules/linear_model.html#logistic-regression\n",
      "  n_iter_i = _check_optimize_result(\n",
      "C:\\Users\\ASUS\\anaconda3\\lib\\site-packages\\sklearn\\linear_model\\_logistic.py:763: ConvergenceWarning: lbfgs failed to converge (status=1):\n",
      "STOP: TOTAL NO. of ITERATIONS REACHED LIMIT.\n",
      "\n",
      "Increase the number of iterations (max_iter) or scale the data as shown in:\n",
      "    https://scikit-learn.org/stable/modules/preprocessing.html\n",
      "Please also refer to the documentation for alternative solver options:\n",
      "    https://scikit-learn.org/stable/modules/linear_model.html#logistic-regression\n",
      "  n_iter_i = _check_optimize_result(\n",
      "C:\\Users\\ASUS\\anaconda3\\lib\\site-packages\\sklearn\\linear_model\\_logistic.py:763: ConvergenceWarning: lbfgs failed to converge (status=1):\n",
      "STOP: TOTAL NO. of ITERATIONS REACHED LIMIT.\n",
      "\n",
      "Increase the number of iterations (max_iter) or scale the data as shown in:\n",
      "    https://scikit-learn.org/stable/modules/preprocessing.html\n",
      "Please also refer to the documentation for alternative solver options:\n",
      "    https://scikit-learn.org/stable/modules/linear_model.html#logistic-regression\n",
      "  n_iter_i = _check_optimize_result(\n",
      "C:\\Users\\ASUS\\anaconda3\\lib\\site-packages\\sklearn\\linear_model\\_logistic.py:763: ConvergenceWarning: lbfgs failed to converge (status=1):\n",
      "STOP: TOTAL NO. of ITERATIONS REACHED LIMIT.\n",
      "\n",
      "Increase the number of iterations (max_iter) or scale the data as shown in:\n",
      "    https://scikit-learn.org/stable/modules/preprocessing.html\n",
      "Please also refer to the documentation for alternative solver options:\n",
      "    https://scikit-learn.org/stable/modules/linear_model.html#logistic-regression\n",
      "  n_iter_i = _check_optimize_result(\n",
      "C:\\Users\\ASUS\\anaconda3\\lib\\site-packages\\sklearn\\linear_model\\_logistic.py:763: ConvergenceWarning: lbfgs failed to converge (status=1):\n",
      "STOP: TOTAL NO. of ITERATIONS REACHED LIMIT.\n",
      "\n",
      "Increase the number of iterations (max_iter) or scale the data as shown in:\n",
      "    https://scikit-learn.org/stable/modules/preprocessing.html\n",
      "Please also refer to the documentation for alternative solver options:\n",
      "    https://scikit-learn.org/stable/modules/linear_model.html#logistic-regression\n",
      "  n_iter_i = _check_optimize_result(\n",
      "C:\\Users\\ASUS\\anaconda3\\lib\\site-packages\\sklearn\\linear_model\\_logistic.py:763: ConvergenceWarning: lbfgs failed to converge (status=1):\n",
      "STOP: TOTAL NO. of ITERATIONS REACHED LIMIT.\n",
      "\n",
      "Increase the number of iterations (max_iter) or scale the data as shown in:\n",
      "    https://scikit-learn.org/stable/modules/preprocessing.html\n",
      "Please also refer to the documentation for alternative solver options:\n",
      "    https://scikit-learn.org/stable/modules/linear_model.html#logistic-regression\n",
      "  n_iter_i = _check_optimize_result(\n",
      "C:\\Users\\ASUS\\anaconda3\\lib\\site-packages\\sklearn\\linear_model\\_logistic.py:763: ConvergenceWarning: lbfgs failed to converge (status=1):\n",
      "STOP: TOTAL NO. of ITERATIONS REACHED LIMIT.\n",
      "\n",
      "Increase the number of iterations (max_iter) or scale the data as shown in:\n",
      "    https://scikit-learn.org/stable/modules/preprocessing.html\n",
      "Please also refer to the documentation for alternative solver options:\n",
      "    https://scikit-learn.org/stable/modules/linear_model.html#logistic-regression\n",
      "  n_iter_i = _check_optimize_result(\n",
      "C:\\Users\\ASUS\\anaconda3\\lib\\site-packages\\sklearn\\linear_model\\_logistic.py:763: ConvergenceWarning: lbfgs failed to converge (status=1):\n",
      "STOP: TOTAL NO. of ITERATIONS REACHED LIMIT.\n",
      "\n",
      "Increase the number of iterations (max_iter) or scale the data as shown in:\n",
      "    https://scikit-learn.org/stable/modules/preprocessing.html\n",
      "Please also refer to the documentation for alternative solver options:\n",
      "    https://scikit-learn.org/stable/modules/linear_model.html#logistic-regression\n",
      "  n_iter_i = _check_optimize_result(\n"
     ]
    },
    {
     "name": "stdout",
     "output_type": "stream",
     "text": [
      "BEST PARAMS: {'C': 1}\n",
      "\n",
      "0.722 (+/-0.172) for {'C': 0.001}\n",
      "0.911 (+/-0.113) for {'C': 0.01}\n",
      "0.911 (+/-0.054) for {'C': 0.1}\n",
      "0.944 (+/-0.07) for {'C': 1}\n",
      "0.944 (+/-0.07) for {'C': 10}\n",
      "0.944 (+/-0.07) for {'C': 100}\n",
      "0.944 (+/-0.07) for {'C': 1000}\n"
     ]
    },
    {
     "name": "stderr",
     "output_type": "stream",
     "text": [
      "C:\\Users\\ASUS\\anaconda3\\lib\\site-packages\\sklearn\\linear_model\\_logistic.py:763: ConvergenceWarning: lbfgs failed to converge (status=1):\n",
      "STOP: TOTAL NO. of ITERATIONS REACHED LIMIT.\n",
      "\n",
      "Increase the number of iterations (max_iter) or scale the data as shown in:\n",
      "    https://scikit-learn.org/stable/modules/preprocessing.html\n",
      "Please also refer to the documentation for alternative solver options:\n",
      "    https://scikit-learn.org/stable/modules/linear_model.html#logistic-regression\n",
      "  n_iter_i = _check_optimize_result(\n",
      "C:\\Users\\ASUS\\anaconda3\\lib\\site-packages\\sklearn\\linear_model\\_logistic.py:763: ConvergenceWarning: lbfgs failed to converge (status=1):\n",
      "STOP: TOTAL NO. of ITERATIONS REACHED LIMIT.\n",
      "\n",
      "Increase the number of iterations (max_iter) or scale the data as shown in:\n",
      "    https://scikit-learn.org/stable/modules/preprocessing.html\n",
      "Please also refer to the documentation for alternative solver options:\n",
      "    https://scikit-learn.org/stable/modules/linear_model.html#logistic-regression\n",
      "  n_iter_i = _check_optimize_result(\n",
      "C:\\Users\\ASUS\\anaconda3\\lib\\site-packages\\sklearn\\linear_model\\_logistic.py:763: ConvergenceWarning: lbfgs failed to converge (status=1):\n",
      "STOP: TOTAL NO. of ITERATIONS REACHED LIMIT.\n",
      "\n",
      "Increase the number of iterations (max_iter) or scale the data as shown in:\n",
      "    https://scikit-learn.org/stable/modules/preprocessing.html\n",
      "Please also refer to the documentation for alternative solver options:\n",
      "    https://scikit-learn.org/stable/modules/linear_model.html#logistic-regression\n",
      "  n_iter_i = _check_optimize_result(\n",
      "C:\\Users\\ASUS\\anaconda3\\lib\\site-packages\\sklearn\\linear_model\\_logistic.py:763: ConvergenceWarning: lbfgs failed to converge (status=1):\n",
      "STOP: TOTAL NO. of ITERATIONS REACHED LIMIT.\n",
      "\n",
      "Increase the number of iterations (max_iter) or scale the data as shown in:\n",
      "    https://scikit-learn.org/stable/modules/preprocessing.html\n",
      "Please also refer to the documentation for alternative solver options:\n",
      "    https://scikit-learn.org/stable/modules/linear_model.html#logistic-regression\n",
      "  n_iter_i = _check_optimize_result(\n",
      "C:\\Users\\ASUS\\anaconda3\\lib\\site-packages\\sklearn\\linear_model\\_logistic.py:763: ConvergenceWarning: lbfgs failed to converge (status=1):\n",
      "STOP: TOTAL NO. of ITERATIONS REACHED LIMIT.\n",
      "\n",
      "Increase the number of iterations (max_iter) or scale the data as shown in:\n",
      "    https://scikit-learn.org/stable/modules/preprocessing.html\n",
      "Please also refer to the documentation for alternative solver options:\n",
      "    https://scikit-learn.org/stable/modules/linear_model.html#logistic-regression\n",
      "  n_iter_i = _check_optimize_result(\n",
      "C:\\Users\\ASUS\\anaconda3\\lib\\site-packages\\sklearn\\linear_model\\_logistic.py:763: ConvergenceWarning: lbfgs failed to converge (status=1):\n",
      "STOP: TOTAL NO. of ITERATIONS REACHED LIMIT.\n",
      "\n",
      "Increase the number of iterations (max_iter) or scale the data as shown in:\n",
      "    https://scikit-learn.org/stable/modules/preprocessing.html\n",
      "Please also refer to the documentation for alternative solver options:\n",
      "    https://scikit-learn.org/stable/modules/linear_model.html#logistic-regression\n",
      "  n_iter_i = _check_optimize_result(\n",
      "C:\\Users\\ASUS\\anaconda3\\lib\\site-packages\\sklearn\\linear_model\\_logistic.py:763: ConvergenceWarning: lbfgs failed to converge (status=1):\n",
      "STOP: TOTAL NO. of ITERATIONS REACHED LIMIT.\n",
      "\n",
      "Increase the number of iterations (max_iter) or scale the data as shown in:\n",
      "    https://scikit-learn.org/stable/modules/preprocessing.html\n",
      "Please also refer to the documentation for alternative solver options:\n",
      "    https://scikit-learn.org/stable/modules/linear_model.html#logistic-regression\n",
      "  n_iter_i = _check_optimize_result(\n",
      "C:\\Users\\ASUS\\anaconda3\\lib\\site-packages\\sklearn\\linear_model\\_logistic.py:763: ConvergenceWarning: lbfgs failed to converge (status=1):\n",
      "STOP: TOTAL NO. of ITERATIONS REACHED LIMIT.\n",
      "\n",
      "Increase the number of iterations (max_iter) or scale the data as shown in:\n",
      "    https://scikit-learn.org/stable/modules/preprocessing.html\n",
      "Please also refer to the documentation for alternative solver options:\n",
      "    https://scikit-learn.org/stable/modules/linear_model.html#logistic-regression\n",
      "  n_iter_i = _check_optimize_result(\n"
     ]
    }
   ],
   "source": [
    "\n",
    "lr = LogisticRegression()\n",
    "parameters = {\n",
    "    'C': [0.001, 0.01, 0.1, 1, 10, 100, 1000]\n",
    "}\n",
    "\n",
    "cv1_lr = GridSearchCV(lr, parameters, cv=5)\n",
    "cv1_lr.fit(tr1_features, tr1_labels.values.ravel())\n",
    "\n",
    "print_results(cv1_lr)"
   ]
  },
  {
   "cell_type": "code",
   "execution_count": 48,
   "id": "a98ffb85",
   "metadata": {},
   "outputs": [
    {
     "data": {
      "text/plain": [
       "LogisticRegression(C=1)"
      ]
     },
     "execution_count": 48,
     "metadata": {},
     "output_type": "execute_result"
    }
   ],
   "source": [
    "cv1_lr.best_estimator_"
   ]
  },
  {
   "cell_type": "markdown",
   "id": "889d190e",
   "metadata": {},
   "source": [
    "**For  the ratio 80-10-10**"
   ]
  },
  {
   "cell_type": "code",
   "execution_count": 49,
   "id": "40a12d78",
   "metadata": {},
   "outputs": [
    {
     "name": "stderr",
     "output_type": "stream",
     "text": [
      "C:\\Users\\ASUS\\anaconda3\\lib\\site-packages\\sklearn\\linear_model\\_logistic.py:763: ConvergenceWarning: lbfgs failed to converge (status=1):\n",
      "STOP: TOTAL NO. of ITERATIONS REACHED LIMIT.\n",
      "\n",
      "Increase the number of iterations (max_iter) or scale the data as shown in:\n",
      "    https://scikit-learn.org/stable/modules/preprocessing.html\n",
      "Please also refer to the documentation for alternative solver options:\n",
      "    https://scikit-learn.org/stable/modules/linear_model.html#logistic-regression\n",
      "  n_iter_i = _check_optimize_result(\n",
      "C:\\Users\\ASUS\\anaconda3\\lib\\site-packages\\sklearn\\linear_model\\_logistic.py:763: ConvergenceWarning: lbfgs failed to converge (status=1):\n",
      "STOP: TOTAL NO. of ITERATIONS REACHED LIMIT.\n",
      "\n",
      "Increase the number of iterations (max_iter) or scale the data as shown in:\n",
      "    https://scikit-learn.org/stable/modules/preprocessing.html\n",
      "Please also refer to the documentation for alternative solver options:\n",
      "    https://scikit-learn.org/stable/modules/linear_model.html#logistic-regression\n",
      "  n_iter_i = _check_optimize_result(\n",
      "C:\\Users\\ASUS\\anaconda3\\lib\\site-packages\\sklearn\\linear_model\\_logistic.py:763: ConvergenceWarning: lbfgs failed to converge (status=1):\n",
      "STOP: TOTAL NO. of ITERATIONS REACHED LIMIT.\n",
      "\n",
      "Increase the number of iterations (max_iter) or scale the data as shown in:\n",
      "    https://scikit-learn.org/stable/modules/preprocessing.html\n",
      "Please also refer to the documentation for alternative solver options:\n",
      "    https://scikit-learn.org/stable/modules/linear_model.html#logistic-regression\n",
      "  n_iter_i = _check_optimize_result(\n",
      "C:\\Users\\ASUS\\anaconda3\\lib\\site-packages\\sklearn\\linear_model\\_logistic.py:763: ConvergenceWarning: lbfgs failed to converge (status=1):\n",
      "STOP: TOTAL NO. of ITERATIONS REACHED LIMIT.\n",
      "\n",
      "Increase the number of iterations (max_iter) or scale the data as shown in:\n",
      "    https://scikit-learn.org/stable/modules/preprocessing.html\n",
      "Please also refer to the documentation for alternative solver options:\n",
      "    https://scikit-learn.org/stable/modules/linear_model.html#logistic-regression\n",
      "  n_iter_i = _check_optimize_result(\n",
      "C:\\Users\\ASUS\\anaconda3\\lib\\site-packages\\sklearn\\linear_model\\_logistic.py:763: ConvergenceWarning: lbfgs failed to converge (status=1):\n",
      "STOP: TOTAL NO. of ITERATIONS REACHED LIMIT.\n",
      "\n",
      "Increase the number of iterations (max_iter) or scale the data as shown in:\n",
      "    https://scikit-learn.org/stable/modules/preprocessing.html\n",
      "Please also refer to the documentation for alternative solver options:\n",
      "    https://scikit-learn.org/stable/modules/linear_model.html#logistic-regression\n",
      "  n_iter_i = _check_optimize_result(\n",
      "C:\\Users\\ASUS\\anaconda3\\lib\\site-packages\\sklearn\\linear_model\\_logistic.py:763: ConvergenceWarning: lbfgs failed to converge (status=1):\n",
      "STOP: TOTAL NO. of ITERATIONS REACHED LIMIT.\n",
      "\n",
      "Increase the number of iterations (max_iter) or scale the data as shown in:\n",
      "    https://scikit-learn.org/stable/modules/preprocessing.html\n",
      "Please also refer to the documentation for alternative solver options:\n",
      "    https://scikit-learn.org/stable/modules/linear_model.html#logistic-regression\n",
      "  n_iter_i = _check_optimize_result(\n",
      "C:\\Users\\ASUS\\anaconda3\\lib\\site-packages\\sklearn\\linear_model\\_logistic.py:763: ConvergenceWarning: lbfgs failed to converge (status=1):\n",
      "STOP: TOTAL NO. of ITERATIONS REACHED LIMIT.\n",
      "\n",
      "Increase the number of iterations (max_iter) or scale the data as shown in:\n",
      "    https://scikit-learn.org/stable/modules/preprocessing.html\n",
      "Please also refer to the documentation for alternative solver options:\n",
      "    https://scikit-learn.org/stable/modules/linear_model.html#logistic-regression\n",
      "  n_iter_i = _check_optimize_result(\n",
      "C:\\Users\\ASUS\\anaconda3\\lib\\site-packages\\sklearn\\linear_model\\_logistic.py:763: ConvergenceWarning: lbfgs failed to converge (status=1):\n",
      "STOP: TOTAL NO. of ITERATIONS REACHED LIMIT.\n",
      "\n",
      "Increase the number of iterations (max_iter) or scale the data as shown in:\n",
      "    https://scikit-learn.org/stable/modules/preprocessing.html\n",
      "Please also refer to the documentation for alternative solver options:\n",
      "    https://scikit-learn.org/stable/modules/linear_model.html#logistic-regression\n",
      "  n_iter_i = _check_optimize_result(\n",
      "C:\\Users\\ASUS\\anaconda3\\lib\\site-packages\\sklearn\\linear_model\\_logistic.py:763: ConvergenceWarning: lbfgs failed to converge (status=1):\n",
      "STOP: TOTAL NO. of ITERATIONS REACHED LIMIT.\n",
      "\n",
      "Increase the number of iterations (max_iter) or scale the data as shown in:\n",
      "    https://scikit-learn.org/stable/modules/preprocessing.html\n",
      "Please also refer to the documentation for alternative solver options:\n",
      "    https://scikit-learn.org/stable/modules/linear_model.html#logistic-regression\n",
      "  n_iter_i = _check_optimize_result(\n",
      "C:\\Users\\ASUS\\anaconda3\\lib\\site-packages\\sklearn\\linear_model\\_logistic.py:763: ConvergenceWarning: lbfgs failed to converge (status=1):\n",
      "STOP: TOTAL NO. of ITERATIONS REACHED LIMIT.\n",
      "\n",
      "Increase the number of iterations (max_iter) or scale the data as shown in:\n",
      "    https://scikit-learn.org/stable/modules/preprocessing.html\n",
      "Please also refer to the documentation for alternative solver options:\n",
      "    https://scikit-learn.org/stable/modules/linear_model.html#logistic-regression\n",
      "  n_iter_i = _check_optimize_result(\n"
     ]
    },
    {
     "name": "stdout",
     "output_type": "stream",
     "text": [
      "BEST PARAMS: {'C': 10}\n",
      "\n",
      "0.875 (+/-0.139) for {'C': 0.001}\n",
      "0.875 (+/-0.118) for {'C': 0.01}\n",
      "0.933 (+/-0.041) for {'C': 0.1}\n",
      "0.958 (+/-0.0) for {'C': 1}\n",
      "0.983 (+/-0.041) for {'C': 10}\n",
      "0.983 (+/-0.041) for {'C': 100}\n",
      "0.975 (+/-0.041) for {'C': 1000}\n"
     ]
    },
    {
     "name": "stderr",
     "output_type": "stream",
     "text": [
      "C:\\Users\\ASUS\\anaconda3\\lib\\site-packages\\sklearn\\linear_model\\_logistic.py:763: ConvergenceWarning: lbfgs failed to converge (status=1):\n",
      "STOP: TOTAL NO. of ITERATIONS REACHED LIMIT.\n",
      "\n",
      "Increase the number of iterations (max_iter) or scale the data as shown in:\n",
      "    https://scikit-learn.org/stable/modules/preprocessing.html\n",
      "Please also refer to the documentation for alternative solver options:\n",
      "    https://scikit-learn.org/stable/modules/linear_model.html#logistic-regression\n",
      "  n_iter_i = _check_optimize_result(\n",
      "C:\\Users\\ASUS\\anaconda3\\lib\\site-packages\\sklearn\\linear_model\\_logistic.py:763: ConvergenceWarning: lbfgs failed to converge (status=1):\n",
      "STOP: TOTAL NO. of ITERATIONS REACHED LIMIT.\n",
      "\n",
      "Increase the number of iterations (max_iter) or scale the data as shown in:\n",
      "    https://scikit-learn.org/stable/modules/preprocessing.html\n",
      "Please also refer to the documentation for alternative solver options:\n",
      "    https://scikit-learn.org/stable/modules/linear_model.html#logistic-regression\n",
      "  n_iter_i = _check_optimize_result(\n",
      "C:\\Users\\ASUS\\anaconda3\\lib\\site-packages\\sklearn\\linear_model\\_logistic.py:763: ConvergenceWarning: lbfgs failed to converge (status=1):\n",
      "STOP: TOTAL NO. of ITERATIONS REACHED LIMIT.\n",
      "\n",
      "Increase the number of iterations (max_iter) or scale the data as shown in:\n",
      "    https://scikit-learn.org/stable/modules/preprocessing.html\n",
      "Please also refer to the documentation for alternative solver options:\n",
      "    https://scikit-learn.org/stable/modules/linear_model.html#logistic-regression\n",
      "  n_iter_i = _check_optimize_result(\n",
      "C:\\Users\\ASUS\\anaconda3\\lib\\site-packages\\sklearn\\linear_model\\_logistic.py:763: ConvergenceWarning: lbfgs failed to converge (status=1):\n",
      "STOP: TOTAL NO. of ITERATIONS REACHED LIMIT.\n",
      "\n",
      "Increase the number of iterations (max_iter) or scale the data as shown in:\n",
      "    https://scikit-learn.org/stable/modules/preprocessing.html\n",
      "Please also refer to the documentation for alternative solver options:\n",
      "    https://scikit-learn.org/stable/modules/linear_model.html#logistic-regression\n",
      "  n_iter_i = _check_optimize_result(\n",
      "C:\\Users\\ASUS\\anaconda3\\lib\\site-packages\\sklearn\\linear_model\\_logistic.py:763: ConvergenceWarning: lbfgs failed to converge (status=1):\n",
      "STOP: TOTAL NO. of ITERATIONS REACHED LIMIT.\n",
      "\n",
      "Increase the number of iterations (max_iter) or scale the data as shown in:\n",
      "    https://scikit-learn.org/stable/modules/preprocessing.html\n",
      "Please also refer to the documentation for alternative solver options:\n",
      "    https://scikit-learn.org/stable/modules/linear_model.html#logistic-regression\n",
      "  n_iter_i = _check_optimize_result(\n",
      "C:\\Users\\ASUS\\anaconda3\\lib\\site-packages\\sklearn\\linear_model\\_logistic.py:763: ConvergenceWarning: lbfgs failed to converge (status=1):\n",
      "STOP: TOTAL NO. of ITERATIONS REACHED LIMIT.\n",
      "\n",
      "Increase the number of iterations (max_iter) or scale the data as shown in:\n",
      "    https://scikit-learn.org/stable/modules/preprocessing.html\n",
      "Please also refer to the documentation for alternative solver options:\n",
      "    https://scikit-learn.org/stable/modules/linear_model.html#logistic-regression\n",
      "  n_iter_i = _check_optimize_result(\n",
      "C:\\Users\\ASUS\\anaconda3\\lib\\site-packages\\sklearn\\linear_model\\_logistic.py:763: ConvergenceWarning: lbfgs failed to converge (status=1):\n",
      "STOP: TOTAL NO. of ITERATIONS REACHED LIMIT.\n",
      "\n",
      "Increase the number of iterations (max_iter) or scale the data as shown in:\n",
      "    https://scikit-learn.org/stable/modules/preprocessing.html\n",
      "Please also refer to the documentation for alternative solver options:\n",
      "    https://scikit-learn.org/stable/modules/linear_model.html#logistic-regression\n",
      "  n_iter_i = _check_optimize_result(\n"
     ]
    }
   ],
   "source": [
    "lr = LogisticRegression()\n",
    "parameters = {\n",
    "    'C': [0.001, 0.01, 0.1, 1, 10, 100, 1000]\n",
    "}\n",
    "\n",
    "cv2_lr = GridSearchCV(lr, parameters, cv=5)\n",
    "cv2_lr.fit(tr2_features, tr2_labels.values.ravel())\n",
    "\n",
    "print_results(cv2_lr)"
   ]
  },
  {
   "cell_type": "code",
   "execution_count": 50,
   "id": "b580bb7f",
   "metadata": {
    "scrolled": true
   },
   "outputs": [
    {
     "data": {
      "text/plain": [
       "LogisticRegression(C=10)"
      ]
     },
     "execution_count": 50,
     "metadata": {},
     "output_type": "execute_result"
    }
   ],
   "source": [
    "cv2_lr.best_estimator_"
   ]
  },
  {
   "cell_type": "markdown",
   "id": "f16f921b",
   "metadata": {},
   "source": [
    "## Saving the best models for both ratios."
   ]
  },
  {
   "cell_type": "code",
   "execution_count": 51,
   "id": "80dee5cc",
   "metadata": {},
   "outputs": [
    {
     "data": {
      "text/plain": [
       "['LR2_model.pkl']"
      ]
     },
     "execution_count": 51,
     "metadata": {},
     "output_type": "execute_result"
    }
   ],
   "source": [
    "joblib.dump(cv1_lr.best_estimator_, 'LR1_model.pkl')\n",
    "\n",
    "joblib.dump(cv2_lr.best_estimator_, 'LR2_model.pkl')"
   ]
  },
  {
   "cell_type": "markdown",
   "id": "72b9c015",
   "metadata": {},
   "source": [
    "# Implementing Grid Search to find optimal hyperparameters for RF(Random Forest)"
   ]
  },
  {
   "cell_type": "markdown",
   "id": "ccd48084",
   "metadata": {},
   "source": [
    "**For the ratio 60-20-20**"
   ]
  },
  {
   "cell_type": "code",
   "execution_count": 52,
   "id": "e918c5da",
   "metadata": {
    "scrolled": true
   },
   "outputs": [
    {
     "name": "stdout",
     "output_type": "stream",
     "text": [
      "BEST PARAMS: {'max_depth': 16, 'n_estimators': 5}\n",
      "\n",
      "0.9 (+/-0.083) for {'max_depth': 2, 'n_estimators': 5}\n",
      "0.933 (+/-0.083) for {'max_depth': 2, 'n_estimators': 50}\n",
      "0.944 (+/-0.099) for {'max_depth': 2, 'n_estimators': 250}\n",
      "0.944 (+/-0.07) for {'max_depth': 4, 'n_estimators': 5}\n",
      "0.933 (+/-0.083) for {'max_depth': 4, 'n_estimators': 50}\n",
      "0.933 (+/-0.083) for {'max_depth': 4, 'n_estimators': 250}\n",
      "0.933 (+/-0.083) for {'max_depth': 8, 'n_estimators': 5}\n",
      "0.922 (+/-0.089) for {'max_depth': 8, 'n_estimators': 50}\n",
      "0.922 (+/-0.089) for {'max_depth': 8, 'n_estimators': 250}\n",
      "0.956 (+/-0.083) for {'max_depth': 16, 'n_estimators': 5}\n",
      "0.933 (+/-0.083) for {'max_depth': 16, 'n_estimators': 50}\n",
      "0.922 (+/-0.089) for {'max_depth': 16, 'n_estimators': 250}\n",
      "0.922 (+/-0.089) for {'max_depth': 32, 'n_estimators': 5}\n",
      "0.933 (+/-0.083) for {'max_depth': 32, 'n_estimators': 50}\n",
      "0.933 (+/-0.083) for {'max_depth': 32, 'n_estimators': 250}\n",
      "0.933 (+/-0.083) for {'max_depth': None, 'n_estimators': 5}\n",
      "0.933 (+/-0.083) for {'max_depth': None, 'n_estimators': 50}\n",
      "0.922 (+/-0.089) for {'max_depth': None, 'n_estimators': 250}\n"
     ]
    }
   ],
   "source": [
    "rf = RandomForestClassifier()\n",
    "parameters = {\n",
    "    'n_estimators': [5, 50, 250],\n",
    "    'max_depth': [2, 4, 8, 16, 32, None]\n",
    "}\n",
    "\n",
    "cv1_rf = GridSearchCV(rf, parameters, cv=5)\n",
    "cv1_rf.fit(tr1_features, tr1_labels.values.ravel())\n",
    "\n",
    "print_results(cv1_rf)"
   ]
  },
  {
   "cell_type": "code",
   "execution_count": 53,
   "id": "2567673e",
   "metadata": {},
   "outputs": [
    {
     "data": {
      "text/plain": [
       "RandomForestClassifier(max_depth=16, n_estimators=5)"
      ]
     },
     "execution_count": 53,
     "metadata": {},
     "output_type": "execute_result"
    }
   ],
   "source": [
    "cv1_rf.best_estimator_"
   ]
  },
  {
   "cell_type": "markdown",
   "id": "16a17420",
   "metadata": {},
   "source": [
    "**For the ratio 80-10-10**"
   ]
  },
  {
   "cell_type": "code",
   "execution_count": 54,
   "id": "b0fbe709",
   "metadata": {},
   "outputs": [
    {
     "name": "stdout",
     "output_type": "stream",
     "text": [
      "BEST PARAMS: {'max_depth': 2, 'n_estimators': 250}\n",
      "\n",
      "0.933 (+/-0.1) for {'max_depth': 2, 'n_estimators': 5}\n",
      "0.942 (+/-0.067) for {'max_depth': 2, 'n_estimators': 50}\n",
      "0.95 (+/-0.082) for {'max_depth': 2, 'n_estimators': 250}\n",
      "0.933 (+/-0.067) for {'max_depth': 4, 'n_estimators': 5}\n",
      "0.942 (+/-0.067) for {'max_depth': 4, 'n_estimators': 50}\n",
      "0.95 (+/-0.033) for {'max_depth': 4, 'n_estimators': 250}\n",
      "0.942 (+/-0.041) for {'max_depth': 8, 'n_estimators': 5}\n",
      "0.95 (+/-0.033) for {'max_depth': 8, 'n_estimators': 50}\n",
      "0.95 (+/-0.033) for {'max_depth': 8, 'n_estimators': 250}\n",
      "0.933 (+/-0.067) for {'max_depth': 16, 'n_estimators': 5}\n",
      "0.942 (+/-0.067) for {'max_depth': 16, 'n_estimators': 50}\n",
      "0.942 (+/-0.067) for {'max_depth': 16, 'n_estimators': 250}\n",
      "0.942 (+/-0.041) for {'max_depth': 32, 'n_estimators': 5}\n",
      "0.95 (+/-0.033) for {'max_depth': 32, 'n_estimators': 50}\n",
      "0.95 (+/-0.033) for {'max_depth': 32, 'n_estimators': 250}\n",
      "0.95 (+/-0.033) for {'max_depth': None, 'n_estimators': 5}\n",
      "0.95 (+/-0.033) for {'max_depth': None, 'n_estimators': 50}\n",
      "0.95 (+/-0.033) for {'max_depth': None, 'n_estimators': 250}\n"
     ]
    }
   ],
   "source": [
    "rf = RandomForestClassifier()\n",
    "parameters = {\n",
    "    'n_estimators': [5, 50, 250],\n",
    "    'max_depth': [2, 4, 8, 16, 32, None]\n",
    "}\n",
    "\n",
    "cv2_rf = GridSearchCV(rf, parameters, cv=5)\n",
    "cv2_rf.fit(tr2_features, tr2_labels.values.ravel())\n",
    "\n",
    "print_results(cv2_rf)"
   ]
  },
  {
   "cell_type": "code",
   "execution_count": 55,
   "id": "3f9d151c",
   "metadata": {},
   "outputs": [
    {
     "data": {
      "text/plain": [
       "RandomForestClassifier(max_depth=2, n_estimators=250)"
      ]
     },
     "execution_count": 55,
     "metadata": {},
     "output_type": "execute_result"
    }
   ],
   "source": [
    "cv2_rf.best_estimator_"
   ]
  },
  {
   "cell_type": "markdown",
   "id": "309b828c",
   "metadata": {},
   "source": [
    "## Saving best models for both ratio"
   ]
  },
  {
   "cell_type": "code",
   "execution_count": 56,
   "id": "52e33556",
   "metadata": {},
   "outputs": [
    {
     "data": {
      "text/plain": [
       "['RF2_model.pkl']"
      ]
     },
     "execution_count": 56,
     "metadata": {},
     "output_type": "execute_result"
    }
   ],
   "source": [
    "joblib.dump(cv1_rf.best_estimator_, 'RF1_model.pkl')\n",
    "joblib.dump(cv2_rf.best_estimator_, 'RF2_model.pkl')"
   ]
  },
  {
   "cell_type": "markdown",
   "id": "6733edc8",
   "metadata": {},
   "source": [
    "# Implementing Grid Search to find optimal hyperparameters for Boosting"
   ]
  },
  {
   "cell_type": "markdown",
   "id": "fd4a3afd",
   "metadata": {},
   "source": [
    "**For the rtio 60-20-20**"
   ]
  },
  {
   "cell_type": "code",
   "execution_count": 57,
   "id": "b6b8a421",
   "metadata": {
    "scrolled": false
   },
   "outputs": [
    {
     "name": "stdout",
     "output_type": "stream",
     "text": [
      "BEST PARAMS: {'learning_rate': 0.01, 'max_depth': 1, 'n_estimators': 250}\n",
      "\n",
      "0.633 (+/-0.327) for {'learning_rate': 0.01, 'max_depth': 1, 'n_estimators': 5}\n",
      "0.922 (+/-0.113) for {'learning_rate': 0.01, 'max_depth': 1, 'n_estimators': 50}\n",
      "0.933 (+/-0.083) for {'learning_rate': 0.01, 'max_depth': 1, 'n_estimators': 250}\n",
      "0.933 (+/-0.083) for {'learning_rate': 0.01, 'max_depth': 1, 'n_estimators': 500}\n",
      "0.911 (+/-0.113) for {'learning_rate': 0.01, 'max_depth': 3, 'n_estimators': 5}\n",
      "0.9 (+/-0.109) for {'learning_rate': 0.01, 'max_depth': 3, 'n_estimators': 50}\n",
      "0.911 (+/-0.113) for {'learning_rate': 0.01, 'max_depth': 3, 'n_estimators': 250}\n",
      "0.922 (+/-0.113) for {'learning_rate': 0.01, 'max_depth': 3, 'n_estimators': 500}\n",
      "0.911 (+/-0.054) for {'learning_rate': 0.01, 'max_depth': 5, 'n_estimators': 5}\n",
      "0.889 (+/-0.07) for {'learning_rate': 0.01, 'max_depth': 5, 'n_estimators': 50}\n",
      "0.878 (+/-0.044) for {'learning_rate': 0.01, 'max_depth': 5, 'n_estimators': 250}\n",
      "0.878 (+/-0.044) for {'learning_rate': 0.01, 'max_depth': 5, 'n_estimators': 500}\n",
      "0.9 (+/-0.083) for {'learning_rate': 0.01, 'max_depth': 7, 'n_estimators': 5}\n",
      "0.889 (+/-0.07) for {'learning_rate': 0.01, 'max_depth': 7, 'n_estimators': 50}\n",
      "0.878 (+/-0.044) for {'learning_rate': 0.01, 'max_depth': 7, 'n_estimators': 250}\n",
      "0.878 (+/-0.044) for {'learning_rate': 0.01, 'max_depth': 7, 'n_estimators': 500}\n",
      "0.9 (+/-0.083) for {'learning_rate': 0.01, 'max_depth': 9, 'n_estimators': 5}\n",
      "0.878 (+/-0.044) for {'learning_rate': 0.01, 'max_depth': 9, 'n_estimators': 50}\n",
      "0.878 (+/-0.044) for {'learning_rate': 0.01, 'max_depth': 9, 'n_estimators': 250}\n",
      "0.889 (+/-0.07) for {'learning_rate': 0.01, 'max_depth': 9, 'n_estimators': 500}\n",
      "0.933 (+/-0.083) for {'learning_rate': 0.1, 'max_depth': 1, 'n_estimators': 5}\n",
      "0.933 (+/-0.083) for {'learning_rate': 0.1, 'max_depth': 1, 'n_estimators': 50}\n",
      "0.922 (+/-0.054) for {'learning_rate': 0.1, 'max_depth': 1, 'n_estimators': 250}\n",
      "0.922 (+/-0.054) for {'learning_rate': 0.1, 'max_depth': 1, 'n_estimators': 500}\n",
      "0.9 (+/-0.109) for {'learning_rate': 0.1, 'max_depth': 3, 'n_estimators': 5}\n",
      "0.922 (+/-0.113) for {'learning_rate': 0.1, 'max_depth': 3, 'n_estimators': 50}\n",
      "0.933 (+/-0.044) for {'learning_rate': 0.1, 'max_depth': 3, 'n_estimators': 250}\n",
      "0.922 (+/-0.054) for {'learning_rate': 0.1, 'max_depth': 3, 'n_estimators': 500}\n",
      "0.9 (+/-0.083) for {'learning_rate': 0.1, 'max_depth': 5, 'n_estimators': 5}\n",
      "0.889 (+/-0.07) for {'learning_rate': 0.1, 'max_depth': 5, 'n_estimators': 50}\n",
      "0.889 (+/-0.07) for {'learning_rate': 0.1, 'max_depth': 5, 'n_estimators': 250}\n",
      "0.889 (+/-0.07) for {'learning_rate': 0.1, 'max_depth': 5, 'n_estimators': 500}\n",
      "0.889 (+/-0.07) for {'learning_rate': 0.1, 'max_depth': 7, 'n_estimators': 5}\n",
      "0.889 (+/-0.07) for {'learning_rate': 0.1, 'max_depth': 7, 'n_estimators': 50}\n",
      "0.889 (+/-0.07) for {'learning_rate': 0.1, 'max_depth': 7, 'n_estimators': 250}\n",
      "0.9 (+/-0.083) for {'learning_rate': 0.1, 'max_depth': 7, 'n_estimators': 500}\n",
      "0.889 (+/-0.07) for {'learning_rate': 0.1, 'max_depth': 9, 'n_estimators': 5}\n",
      "0.889 (+/-0.07) for {'learning_rate': 0.1, 'max_depth': 9, 'n_estimators': 50}\n",
      "0.878 (+/-0.044) for {'learning_rate': 0.1, 'max_depth': 9, 'n_estimators': 250}\n",
      "0.9 (+/-0.083) for {'learning_rate': 0.1, 'max_depth': 9, 'n_estimators': 500}\n",
      "0.933 (+/-0.083) for {'learning_rate': 1, 'max_depth': 1, 'n_estimators': 5}\n",
      "0.922 (+/-0.054) for {'learning_rate': 1, 'max_depth': 1, 'n_estimators': 50}\n",
      "0.922 (+/-0.054) for {'learning_rate': 1, 'max_depth': 1, 'n_estimators': 250}\n",
      "0.922 (+/-0.054) for {'learning_rate': 1, 'max_depth': 1, 'n_estimators': 500}\n",
      "0.922 (+/-0.089) for {'learning_rate': 1, 'max_depth': 3, 'n_estimators': 5}\n",
      "0.922 (+/-0.054) for {'learning_rate': 1, 'max_depth': 3, 'n_estimators': 50}\n",
      "0.922 (+/-0.054) for {'learning_rate': 1, 'max_depth': 3, 'n_estimators': 250}\n",
      "0.922 (+/-0.054) for {'learning_rate': 1, 'max_depth': 3, 'n_estimators': 500}\n",
      "0.889 (+/-0.07) for {'learning_rate': 1, 'max_depth': 5, 'n_estimators': 5}\n",
      "0.9 (+/-0.083) for {'learning_rate': 1, 'max_depth': 5, 'n_estimators': 50}\n",
      "0.9 (+/-0.083) for {'learning_rate': 1, 'max_depth': 5, 'n_estimators': 250}\n",
      "0.9 (+/-0.083) for {'learning_rate': 1, 'max_depth': 5, 'n_estimators': 500}\n",
      "0.911 (+/-0.089) for {'learning_rate': 1, 'max_depth': 7, 'n_estimators': 5}\n",
      "0.9 (+/-0.083) for {'learning_rate': 1, 'max_depth': 7, 'n_estimators': 50}\n",
      "0.9 (+/-0.083) for {'learning_rate': 1, 'max_depth': 7, 'n_estimators': 250}\n",
      "0.889 (+/-0.07) for {'learning_rate': 1, 'max_depth': 7, 'n_estimators': 500}\n",
      "0.889 (+/-0.07) for {'learning_rate': 1, 'max_depth': 9, 'n_estimators': 5}\n",
      "0.9 (+/-0.083) for {'learning_rate': 1, 'max_depth': 9, 'n_estimators': 50}\n",
      "0.889 (+/-0.07) for {'learning_rate': 1, 'max_depth': 9, 'n_estimators': 250}\n",
      "0.9 (+/-0.083) for {'learning_rate': 1, 'max_depth': 9, 'n_estimators': 500}\n",
      "0.756 (+/-0.448) for {'learning_rate': 10, 'max_depth': 1, 'n_estimators': 5}\n",
      "0.756 (+/-0.448) for {'learning_rate': 10, 'max_depth': 1, 'n_estimators': 50}\n",
      "0.756 (+/-0.448) for {'learning_rate': 10, 'max_depth': 1, 'n_estimators': 250}\n",
      "0.756 (+/-0.448) for {'learning_rate': 10, 'max_depth': 1, 'n_estimators': 500}\n",
      "0.889 (+/-0.07) for {'learning_rate': 10, 'max_depth': 3, 'n_estimators': 5}\n",
      "0.9 (+/-0.083) for {'learning_rate': 10, 'max_depth': 3, 'n_estimators': 50}\n",
      "0.889 (+/-0.099) for {'learning_rate': 10, 'max_depth': 3, 'n_estimators': 250}\n",
      "0.889 (+/-0.099) for {'learning_rate': 10, 'max_depth': 3, 'n_estimators': 500}\n",
      "0.9 (+/-0.083) for {'learning_rate': 10, 'max_depth': 5, 'n_estimators': 5}\n",
      "0.889 (+/-0.07) for {'learning_rate': 10, 'max_depth': 5, 'n_estimators': 50}\n",
      "0.9 (+/-0.083) for {'learning_rate': 10, 'max_depth': 5, 'n_estimators': 250}\n",
      "0.922 (+/-0.054) for {'learning_rate': 10, 'max_depth': 5, 'n_estimators': 500}\n",
      "0.889 (+/-0.07) for {'learning_rate': 10, 'max_depth': 7, 'n_estimators': 5}\n",
      "0.9 (+/-0.083) for {'learning_rate': 10, 'max_depth': 7, 'n_estimators': 50}\n",
      "0.889 (+/-0.07) for {'learning_rate': 10, 'max_depth': 7, 'n_estimators': 250}\n",
      "0.889 (+/-0.07) for {'learning_rate': 10, 'max_depth': 7, 'n_estimators': 500}\n",
      "0.889 (+/-0.07) for {'learning_rate': 10, 'max_depth': 9, 'n_estimators': 5}\n",
      "0.9 (+/-0.083) for {'learning_rate': 10, 'max_depth': 9, 'n_estimators': 50}\n",
      "0.889 (+/-0.07) for {'learning_rate': 10, 'max_depth': 9, 'n_estimators': 250}\n",
      "0.889 (+/-0.07) for {'learning_rate': 10, 'max_depth': 9, 'n_estimators': 500}\n",
      "0.7 (+/-0.407) for {'learning_rate': 100, 'max_depth': 1, 'n_estimators': 5}\n",
      "0.7 (+/-0.407) for {'learning_rate': 100, 'max_depth': 1, 'n_estimators': 50}\n",
      "0.7 (+/-0.407) for {'learning_rate': 100, 'max_depth': 1, 'n_estimators': 250}\n",
      "0.7 (+/-0.407) for {'learning_rate': 100, 'max_depth': 1, 'n_estimators': 500}\n",
      "0.922 (+/-0.113) for {'learning_rate': 100, 'max_depth': 3, 'n_estimators': 5}\n",
      "0.922 (+/-0.113) for {'learning_rate': 100, 'max_depth': 3, 'n_estimators': 50}\n",
      "0.911 (+/-0.113) for {'learning_rate': 100, 'max_depth': 3, 'n_estimators': 250}\n",
      "0.922 (+/-0.113) for {'learning_rate': 100, 'max_depth': 3, 'n_estimators': 500}\n",
      "0.889 (+/-0.07) for {'learning_rate': 100, 'max_depth': 5, 'n_estimators': 5}\n",
      "0.889 (+/-0.07) for {'learning_rate': 100, 'max_depth': 5, 'n_estimators': 50}\n",
      "0.878 (+/-0.044) for {'learning_rate': 100, 'max_depth': 5, 'n_estimators': 250}\n",
      "0.889 (+/-0.07) for {'learning_rate': 100, 'max_depth': 5, 'n_estimators': 500}\n",
      "0.889 (+/-0.07) for {'learning_rate': 100, 'max_depth': 7, 'n_estimators': 5}\n",
      "0.9 (+/-0.044) for {'learning_rate': 100, 'max_depth': 7, 'n_estimators': 50}\n",
      "0.889 (+/-0.07) for {'learning_rate': 100, 'max_depth': 7, 'n_estimators': 250}\n",
      "0.889 (+/-0.07) for {'learning_rate': 100, 'max_depth': 7, 'n_estimators': 500}\n",
      "0.878 (+/-0.044) for {'learning_rate': 100, 'max_depth': 9, 'n_estimators': 5}\n",
      "0.878 (+/-0.044) for {'learning_rate': 100, 'max_depth': 9, 'n_estimators': 50}\n",
      "0.9 (+/-0.044) for {'learning_rate': 100, 'max_depth': 9, 'n_estimators': 250}\n",
      "0.889 (+/-0.07) for {'learning_rate': 100, 'max_depth': 9, 'n_estimators': 500}\n"
     ]
    }
   ],
   "source": [
    "from sklearn.ensemble import GradientBoostingClassifier\n",
    "gb = GradientBoostingClassifier()\n",
    "parameters = {\n",
    "    'n_estimators': [5, 50, 250, 500],\n",
    "    'max_depth': [1, 3, 5, 7, 9],\n",
    "    'learning_rate': [0.01, 0.1, 1, 10, 100]\n",
    "}\n",
    "\n",
    "cv1_gb = GridSearchCV(gb, parameters, cv=5)\n",
    "cv1_gb.fit(tr1_features, tr1_labels.values.ravel())\n",
    "\n",
    "print_results(cv1_gb)"
   ]
  },
  {
   "cell_type": "code",
   "execution_count": 58,
   "id": "4688d2ad",
   "metadata": {},
   "outputs": [
    {
     "data": {
      "text/plain": [
       "GradientBoostingClassifier(learning_rate=0.01, max_depth=1, n_estimators=250)"
      ]
     },
     "execution_count": 58,
     "metadata": {},
     "output_type": "execute_result"
    }
   ],
   "source": [
    "cv1_gb.best_estimator_"
   ]
  },
  {
   "cell_type": "markdown",
   "id": "94931437",
   "metadata": {},
   "source": [
    "**For the ratio 80-10-10**"
   ]
  },
  {
   "cell_type": "code",
   "execution_count": 59,
   "id": "88097317",
   "metadata": {},
   "outputs": [
    {
     "name": "stdout",
     "output_type": "stream",
     "text": [
      "BEST PARAMS: {'learning_rate': 0.1, 'max_depth': 3, 'n_estimators': 250}\n",
      "\n",
      "0.95 (+/-0.033) for {'learning_rate': 0.01, 'max_depth': 1, 'n_estimators': 5}\n",
      "0.95 (+/-0.033) for {'learning_rate': 0.01, 'max_depth': 1, 'n_estimators': 50}\n",
      "0.95 (+/-0.033) for {'learning_rate': 0.01, 'max_depth': 1, 'n_estimators': 250}\n",
      "0.95 (+/-0.033) for {'learning_rate': 0.01, 'max_depth': 1, 'n_estimators': 500}\n",
      "0.942 (+/-0.041) for {'learning_rate': 0.01, 'max_depth': 3, 'n_estimators': 5}\n",
      "0.942 (+/-0.041) for {'learning_rate': 0.01, 'max_depth': 3, 'n_estimators': 50}\n",
      "0.942 (+/-0.041) for {'learning_rate': 0.01, 'max_depth': 3, 'n_estimators': 250}\n",
      "0.95 (+/-0.033) for {'learning_rate': 0.01, 'max_depth': 3, 'n_estimators': 500}\n",
      "0.933 (+/-0.067) for {'learning_rate': 0.01, 'max_depth': 5, 'n_estimators': 5}\n",
      "0.933 (+/-0.067) for {'learning_rate': 0.01, 'max_depth': 5, 'n_estimators': 50}\n",
      "0.942 (+/-0.085) for {'learning_rate': 0.01, 'max_depth': 5, 'n_estimators': 250}\n",
      "0.933 (+/-0.067) for {'learning_rate': 0.01, 'max_depth': 5, 'n_estimators': 500}\n",
      "0.942 (+/-0.113) for {'learning_rate': 0.01, 'max_depth': 7, 'n_estimators': 5}\n",
      "0.925 (+/-0.097) for {'learning_rate': 0.01, 'max_depth': 7, 'n_estimators': 50}\n",
      "0.942 (+/-0.085) for {'learning_rate': 0.01, 'max_depth': 7, 'n_estimators': 250}\n",
      "0.933 (+/-0.067) for {'learning_rate': 0.01, 'max_depth': 7, 'n_estimators': 500}\n",
      "0.942 (+/-0.085) for {'learning_rate': 0.01, 'max_depth': 9, 'n_estimators': 5}\n",
      "0.933 (+/-0.113) for {'learning_rate': 0.01, 'max_depth': 9, 'n_estimators': 50}\n",
      "0.933 (+/-0.113) for {'learning_rate': 0.01, 'max_depth': 9, 'n_estimators': 250}\n",
      "0.933 (+/-0.113) for {'learning_rate': 0.01, 'max_depth': 9, 'n_estimators': 500}\n",
      "0.95 (+/-0.033) for {'learning_rate': 0.1, 'max_depth': 1, 'n_estimators': 5}\n",
      "0.95 (+/-0.033) for {'learning_rate': 0.1, 'max_depth': 1, 'n_estimators': 50}\n",
      "0.95 (+/-0.033) for {'learning_rate': 0.1, 'max_depth': 1, 'n_estimators': 250}\n",
      "0.933 (+/-0.067) for {'learning_rate': 0.1, 'max_depth': 1, 'n_estimators': 500}\n",
      "0.95 (+/-0.062) for {'learning_rate': 0.1, 'max_depth': 3, 'n_estimators': 5}\n",
      "0.95 (+/-0.033) for {'learning_rate': 0.1, 'max_depth': 3, 'n_estimators': 50}\n",
      "0.958 (+/-0.0) for {'learning_rate': 0.1, 'max_depth': 3, 'n_estimators': 250}\n",
      "0.958 (+/-0.0) for {'learning_rate': 0.1, 'max_depth': 3, 'n_estimators': 500}\n",
      "0.933 (+/-0.1) for {'learning_rate': 0.1, 'max_depth': 5, 'n_estimators': 5}\n",
      "0.933 (+/-0.067) for {'learning_rate': 0.1, 'max_depth': 5, 'n_estimators': 50}\n",
      "0.942 (+/-0.085) for {'learning_rate': 0.1, 'max_depth': 5, 'n_estimators': 250}\n",
      "0.95 (+/-0.062) for {'learning_rate': 0.1, 'max_depth': 5, 'n_estimators': 500}\n",
      "0.933 (+/-0.067) for {'learning_rate': 0.1, 'max_depth': 7, 'n_estimators': 5}\n",
      "0.933 (+/-0.067) for {'learning_rate': 0.1, 'max_depth': 7, 'n_estimators': 50}\n",
      "0.942 (+/-0.085) for {'learning_rate': 0.1, 'max_depth': 7, 'n_estimators': 250}\n",
      "0.942 (+/-0.085) for {'learning_rate': 0.1, 'max_depth': 7, 'n_estimators': 500}\n",
      "0.933 (+/-0.113) for {'learning_rate': 0.1, 'max_depth': 9, 'n_estimators': 5}\n",
      "0.933 (+/-0.067) for {'learning_rate': 0.1, 'max_depth': 9, 'n_estimators': 50}\n",
      "0.925 (+/-0.097) for {'learning_rate': 0.1, 'max_depth': 9, 'n_estimators': 250}\n",
      "0.942 (+/-0.085) for {'learning_rate': 0.1, 'max_depth': 9, 'n_estimators': 500}\n",
      "0.95 (+/-0.033) for {'learning_rate': 1, 'max_depth': 1, 'n_estimators': 5}\n",
      "0.942 (+/-0.067) for {'learning_rate': 1, 'max_depth': 1, 'n_estimators': 50}\n",
      "0.908 (+/-0.082) for {'learning_rate': 1, 'max_depth': 1, 'n_estimators': 250}\n",
      "0.908 (+/-0.082) for {'learning_rate': 1, 'max_depth': 1, 'n_estimators': 500}\n",
      "0.925 (+/-0.097) for {'learning_rate': 1, 'max_depth': 3, 'n_estimators': 5}\n",
      "0.942 (+/-0.067) for {'learning_rate': 1, 'max_depth': 3, 'n_estimators': 50}\n",
      "0.95 (+/-0.082) for {'learning_rate': 1, 'max_depth': 3, 'n_estimators': 250}\n",
      "0.95 (+/-0.033) for {'learning_rate': 1, 'max_depth': 3, 'n_estimators': 500}\n",
      "0.933 (+/-0.113) for {'learning_rate': 1, 'max_depth': 5, 'n_estimators': 5}\n",
      "0.933 (+/-0.067) for {'learning_rate': 1, 'max_depth': 5, 'n_estimators': 50}\n",
      "0.942 (+/-0.041) for {'learning_rate': 1, 'max_depth': 5, 'n_estimators': 250}\n",
      "0.942 (+/-0.041) for {'learning_rate': 1, 'max_depth': 5, 'n_estimators': 500}\n",
      "0.942 (+/-0.085) for {'learning_rate': 1, 'max_depth': 7, 'n_estimators': 5}\n",
      "0.933 (+/-0.067) for {'learning_rate': 1, 'max_depth': 7, 'n_estimators': 50}\n",
      "0.942 (+/-0.041) for {'learning_rate': 1, 'max_depth': 7, 'n_estimators': 250}\n",
      "0.942 (+/-0.041) for {'learning_rate': 1, 'max_depth': 7, 'n_estimators': 500}\n",
      "0.933 (+/-0.067) for {'learning_rate': 1, 'max_depth': 9, 'n_estimators': 5}\n",
      "0.933 (+/-0.067) for {'learning_rate': 1, 'max_depth': 9, 'n_estimators': 50}\n",
      "0.942 (+/-0.041) for {'learning_rate': 1, 'max_depth': 9, 'n_estimators': 250}\n",
      "0.933 (+/-0.067) for {'learning_rate': 1, 'max_depth': 9, 'n_estimators': 500}\n",
      "0.175 (+/-0.286) for {'learning_rate': 10, 'max_depth': 1, 'n_estimators': 5}\n",
      "0.158 (+/-0.276) for {'learning_rate': 10, 'max_depth': 1, 'n_estimators': 50}\n",
      "0.175 (+/-0.286) for {'learning_rate': 10, 'max_depth': 1, 'n_estimators': 250}\n",
      "0.175 (+/-0.286) for {'learning_rate': 10, 'max_depth': 1, 'n_estimators': 500}\n",
      "0.9 (+/-0.145) for {'learning_rate': 10, 'max_depth': 3, 'n_estimators': 5}\n",
      "0.908 (+/-0.097) for {'learning_rate': 10, 'max_depth': 3, 'n_estimators': 50}\n",
      "0.9 (+/-0.125) for {'learning_rate': 10, 'max_depth': 3, 'n_estimators': 250}\n",
      "0.925 (+/-0.062) for {'learning_rate': 10, 'max_depth': 3, 'n_estimators': 500}\n",
      "0.925 (+/-0.097) for {'learning_rate': 10, 'max_depth': 5, 'n_estimators': 5}\n",
      "0.942 (+/-0.041) for {'learning_rate': 10, 'max_depth': 5, 'n_estimators': 50}\n",
      "0.925 (+/-0.062) for {'learning_rate': 10, 'max_depth': 5, 'n_estimators': 250}\n",
      "0.942 (+/-0.041) for {'learning_rate': 10, 'max_depth': 5, 'n_estimators': 500}\n",
      "0.942 (+/-0.041) for {'learning_rate': 10, 'max_depth': 7, 'n_estimators': 5}\n",
      "0.933 (+/-0.067) for {'learning_rate': 10, 'max_depth': 7, 'n_estimators': 50}\n",
      "0.942 (+/-0.041) for {'learning_rate': 10, 'max_depth': 7, 'n_estimators': 250}\n",
      "0.925 (+/-0.082) for {'learning_rate': 10, 'max_depth': 7, 'n_estimators': 500}\n",
      "0.942 (+/-0.041) for {'learning_rate': 10, 'max_depth': 9, 'n_estimators': 5}\n",
      "0.933 (+/-0.067) for {'learning_rate': 10, 'max_depth': 9, 'n_estimators': 50}\n",
      "0.933 (+/-0.067) for {'learning_rate': 10, 'max_depth': 9, 'n_estimators': 250}\n",
      "0.942 (+/-0.041) for {'learning_rate': 10, 'max_depth': 9, 'n_estimators': 500}\n",
      "0.175 (+/-0.286) for {'learning_rate': 100, 'max_depth': 1, 'n_estimators': 5}\n",
      "0.158 (+/-0.276) for {'learning_rate': 100, 'max_depth': 1, 'n_estimators': 50}\n",
      "0.175 (+/-0.286) for {'learning_rate': 100, 'max_depth': 1, 'n_estimators': 250}\n",
      "0.158 (+/-0.276) for {'learning_rate': 100, 'max_depth': 1, 'n_estimators': 500}\n",
      "0.933 (+/-0.067) for {'learning_rate': 100, 'max_depth': 3, 'n_estimators': 5}\n",
      "0.942 (+/-0.085) for {'learning_rate': 100, 'max_depth': 3, 'n_estimators': 50}\n",
      "0.933 (+/-0.1) for {'learning_rate': 100, 'max_depth': 3, 'n_estimators': 250}\n",
      "0.942 (+/-0.085) for {'learning_rate': 100, 'max_depth': 3, 'n_estimators': 500}\n",
      "0.933 (+/-0.067) for {'learning_rate': 100, 'max_depth': 5, 'n_estimators': 5}\n",
      "0.942 (+/-0.113) for {'learning_rate': 100, 'max_depth': 5, 'n_estimators': 50}\n",
      "0.917 (+/-0.105) for {'learning_rate': 100, 'max_depth': 5, 'n_estimators': 250}\n",
      "0.933 (+/-0.1) for {'learning_rate': 100, 'max_depth': 5, 'n_estimators': 500}\n",
      "0.917 (+/-0.105) for {'learning_rate': 100, 'max_depth': 7, 'n_estimators': 5}\n",
      "0.942 (+/-0.085) for {'learning_rate': 100, 'max_depth': 7, 'n_estimators': 50}\n",
      "0.933 (+/-0.113) for {'learning_rate': 100, 'max_depth': 7, 'n_estimators': 250}\n",
      "0.942 (+/-0.085) for {'learning_rate': 100, 'max_depth': 7, 'n_estimators': 500}\n",
      "0.942 (+/-0.085) for {'learning_rate': 100, 'max_depth': 9, 'n_estimators': 5}\n",
      "0.942 (+/-0.085) for {'learning_rate': 100, 'max_depth': 9, 'n_estimators': 50}\n",
      "0.95 (+/-0.082) for {'learning_rate': 100, 'max_depth': 9, 'n_estimators': 250}\n",
      "0.933 (+/-0.1) for {'learning_rate': 100, 'max_depth': 9, 'n_estimators': 500}\n"
     ]
    }
   ],
   "source": [
    "from sklearn.ensemble import GradientBoostingClassifier\n",
    "gb = GradientBoostingClassifier()\n",
    "parameters = {\n",
    "    'n_estimators': [5, 50, 250, 500],\n",
    "    'max_depth': [1, 3, 5, 7, 9],\n",
    "    'learning_rate': [0.01, 0.1, 1, 10, 100]\n",
    "}\n",
    "\n",
    "cv2_gb = GridSearchCV(gb, parameters, cv=5)\n",
    "cv2_gb.fit(tr2_features, tr2_labels.values.ravel())\n",
    "\n",
    "print_results(cv2_gb)"
   ]
  },
  {
   "cell_type": "code",
   "execution_count": 60,
   "id": "1f295903",
   "metadata": {},
   "outputs": [
    {
     "data": {
      "text/plain": [
       "GradientBoostingClassifier(n_estimators=250)"
      ]
     },
     "execution_count": 60,
     "metadata": {},
     "output_type": "execute_result"
    }
   ],
   "source": [
    "cv2_gb.best_estimator_"
   ]
  },
  {
   "cell_type": "markdown",
   "id": "cbb8200b",
   "metadata": {},
   "source": [
    "## Saving the best models for both ratios"
   ]
  },
  {
   "cell_type": "code",
   "execution_count": 61,
   "id": "2f9584bf",
   "metadata": {},
   "outputs": [
    {
     "data": {
      "text/plain": [
       "['GB2_model.pkl']"
      ]
     },
     "execution_count": 61,
     "metadata": {},
     "output_type": "execute_result"
    }
   ],
   "source": [
    "joblib.dump(cv1_gb.best_estimator_, 'GB1_model.pkl')\n",
    "\n",
    "joblib.dump(cv2_gb.best_estimator_, 'GB2_model.pkl')"
   ]
  },
  {
   "cell_type": "markdown",
   "id": "1aa00d34",
   "metadata": {},
   "source": [
    "## Comparing the performance of models using precision, recall, accuracy, latency."
   ]
  },
  {
   "cell_type": "code",
   "execution_count": 62,
   "id": "8e56ce46",
   "metadata": {},
   "outputs": [],
   "source": [
    "from sklearn.metrics import accuracy_score, precision_score, recall_score\n",
    "from time import time\n",
    "\n",
    "val1_features = pd.read_csv('val1_features.csv')\n",
    "val1_labels = pd.read_csv('val1_labels.csv')\n",
    "\n",
    "te1_features = pd.read_csv('test1_features.csv')\n",
    "te1_labels = pd.read_csv('test1_labels.csv')\n",
    "\n",
    "val2_features = pd.read_csv('val2_features.csv')\n",
    "val2_labels = pd.read_csv('val2_labels.csv')\n",
    "\n",
    "te2_features = pd.read_csv('test2_features.csv')\n",
    "te2_labels = pd.read_csv('test2_labels.csv')"
   ]
  },
  {
   "cell_type": "code",
   "execution_count": 63,
   "id": "8332a5fd",
   "metadata": {},
   "outputs": [],
   "source": [
    "models1 = {}\n",
    "\n",
    "for mdl in ['LR1', 'RF1', 'GB1']:\n",
    "    models1[mdl] = joblib.load('{}_model.pkl'.format(mdl))"
   ]
  },
  {
   "cell_type": "code",
   "execution_count": 64,
   "id": "9f0fec53",
   "metadata": {},
   "outputs": [
    {
     "data": {
      "text/plain": [
       "{'LR1': LogisticRegression(C=1),\n",
       " 'RF1': RandomForestClassifier(max_depth=16, n_estimators=5),\n",
       " 'GB1': GradientBoostingClassifier(learning_rate=0.01, max_depth=1, n_estimators=250)}"
      ]
     },
     "execution_count": 64,
     "metadata": {},
     "output_type": "execute_result"
    }
   ],
   "source": [
    "models1"
   ]
  },
  {
   "cell_type": "code",
   "execution_count": 65,
   "id": "4dfc9164",
   "metadata": {},
   "outputs": [],
   "source": [
    "def evaluate_model(name, model, features, labels):\n",
    "    start = time()\n",
    "    pred = model.predict(features)\n",
    "    end = time()\n",
    "    accuracy = round(accuracy_score(labels, pred), 3)\n",
    "    precision = round(precision_score(labels, pred, average='weighted'), 3)\n",
    "    recall = round(recall_score(labels, pred, average='weighted'), 3)\n",
    "    print('{} -- Accuracy: {} / Precision: {} / Recall: {} / Latency: {}ms'.format(name,\n",
    "                                                                                   accuracy,\n",
    "                                                                                   precision,\n",
    "                                                                                   recall,\n",
    "                                                                                   round((end - start)*1000, 1)))"
   ]
  },
  {
   "cell_type": "code",
   "execution_count": 66,
   "id": "5c532459",
   "metadata": {},
   "outputs": [],
   "source": [
    "models2 = {}\n",
    "\n",
    "for mdl in ['LR2', 'RF2', 'GB2']:\n",
    "    models2[mdl] = joblib.load('{}_model.pkl'.format(mdl))"
   ]
  },
  {
   "cell_type": "code",
   "execution_count": 67,
   "id": "26072967",
   "metadata": {},
   "outputs": [
    {
     "data": {
      "text/plain": [
       "{'LR2': LogisticRegression(C=10),\n",
       " 'RF2': RandomForestClassifier(max_depth=2, n_estimators=250),\n",
       " 'GB2': GradientBoostingClassifier(n_estimators=250)}"
      ]
     },
     "execution_count": 67,
     "metadata": {},
     "output_type": "execute_result"
    }
   ],
   "source": [
    "models2"
   ]
  },
  {
   "cell_type": "code",
   "execution_count": 68,
   "id": "b24cf3d1",
   "metadata": {},
   "outputs": [
    {
     "name": "stdout",
     "output_type": "stream",
     "text": [
      "LR1 -- Accuracy: 0.967 / Precision: 0.97 / Recall: 0.967 / Latency: 4.0ms\n",
      "RF1 -- Accuracy: 0.933 / Precision: 0.945 / Recall: 0.933 / Latency: 4.0ms\n",
      "GB1 -- Accuracy: 0.967 / Precision: 0.97 / Recall: 0.967 / Latency: 4.0ms\n"
     ]
    }
   ],
   "source": [
    "for name, mdl in models1.items():\n",
    "    evaluate_model(name, mdl, val1_features, val1_labels)"
   ]
  },
  {
   "cell_type": "markdown",
   "id": "bf05037d",
   "metadata": {},
   "source": [
    "For the ratio 60-20-20, Logostic Regression and Boosting models performed best with simmilar scores of Accuracy, Precision and Recall."
   ]
  },
  {
   "cell_type": "code",
   "execution_count": 69,
   "id": "a0620b6b",
   "metadata": {
    "scrolled": true
   },
   "outputs": [
    {
     "name": "stdout",
     "output_type": "stream",
     "text": [
      "LR2 -- Accuracy: 0.933 / Precision: 0.947 / Recall: 0.933 / Latency: 0.0ms\n",
      "RF2 -- Accuracy: 1.0 / Precision: 1.0 / Recall: 1.0 / Latency: 16.5ms\n",
      "GB2 -- Accuracy: 0.933 / Precision: 0.947 / Recall: 0.933 / Latency: 0.0ms\n"
     ]
    }
   ],
   "source": [
    "for name, mdl in models2.items():\n",
    "    evaluate_model(name, mdl, val2_features, val2_labels)"
   ]
  },
  {
   "cell_type": "markdown",
   "id": "db368878",
   "metadata": {},
   "source": [
    "For the ratio 80-10-10 , Random Forest model performed best."
   ]
  },
  {
   "cell_type": "markdown",
   "id": "c6d73db1",
   "metadata": {},
   "source": [
    "## Analysis:\n",
    "\n",
    "Split ratio of 80-10-10 has Score of 1.0 for Accuracy, Precision and Recall, for Random Forest model, however if we look at Logistic Regression and Boosting models, split ratio of 60-20-20 is giving better results and acceptable results for Random Forest with less latency."
   ]
  },
  {
   "cell_type": "code",
   "execution_count": null,
   "id": "ef36e44e",
   "metadata": {},
   "outputs": [],
   "source": []
  }
 ],
 "metadata": {
  "kernelspec": {
   "display_name": "Python 3",
   "language": "python",
   "name": "python3"
  },
  "language_info": {
   "codemirror_mode": {
    "name": "ipython",
    "version": 3
   },
   "file_extension": ".py",
   "mimetype": "text/x-python",
   "name": "python",
   "nbconvert_exporter": "python",
   "pygments_lexer": "ipython3",
   "version": "3.8.8"
  }
 },
 "nbformat": 4,
 "nbformat_minor": 5
}
